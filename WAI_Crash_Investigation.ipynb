{
  "nbformat": 4,
  "nbformat_minor": 0,
  "metadata": {
    "colab": {
      "name": "WAI_Crash_Investigation.ipynb",
      "provenance": [],
      "authorship_tag": "ABX9TyNbzSwMDxxivNVVexAIqygD",
      "include_colab_link": true
    },
    "kernelspec": {
      "name": "python3",
      "display_name": "Python 3"
    },
    "language_info": {
      "name": "python"
    }
  },
  "cells": [
    {
      "cell_type": "markdown",
      "metadata": {
        "id": "view-in-github",
        "colab_type": "text"
      },
      "source": [
        "<a href=\"https://colab.research.google.com/github/women-in-ai-ireland/May-2022-WaiXCollins-Airplane-Crash-Investigation/blob/main/WAI_Crash_Investigation.ipynb\" target=\"_parent\"><img src=\"https://colab.research.google.com/assets/colab-badge.svg\" alt=\"Open In Colab\"/></a>"
      ]
    },
    {
      "cell_type": "markdown",
      "source": [
        "#Data Analytics Project I: Analysis Airplane Crashes 1908-2019\n",
        "This template is designed for the Women in AI (WAI) project May 2022 Cohort. The purpose of this project is to expose the WAI participants with a data analytic project related to aerospace and aviation. The objective of this project is to analyze, categorize and visualize airplane crash data. The goal of this project is to provide the paricipants with the tools and technqiues that are applicable to practical data analytics problems in aerospace and aviation. \n",
        "\n",
        "\n",
        "\n",
        "\n"
      ],
      "metadata": {
        "id": "ekBJ2Z7b4wuM"
      }
    },
    {
      "cell_type": "markdown",
      "source": [
        "Learning Objectives: \n",
        "* Data visualization \n",
        "* Basic statistical analysis \n",
        "* Basic use of Python \n",
        "* Basic ML skills"
      ],
      "metadata": {
        "id": "djDk8WNxlglw"
      }
    },
    {
      "cell_type": "markdown",
      "source": [
        "Requirements/Pre-requisits: \n",
        "* STEM Background: No\n",
        "* Data-science/ML/AI: Begginer / limited experience\n",
        "* Python: Begginer - some experience prefered but not mandatory\n",
        "\n"
      ],
      "metadata": {
        "id": "VQhYIxNqk295"
      }
    },
    {
      "cell_type": "markdown",
      "source": [
        "Author of the template and mentor for this project: \\\n",
        "Katarina Vuckovic \\\n",
        "Systems Engineer and Data-Scientist at Collins Aerospace\\\n",
        "Contact: katarina.vuckovic@collins.com \\"
      ],
      "metadata": {
        "id": "--dPu0R87cN2"
      }
    },
    {
      "cell_type": "markdown",
      "source": [
        "\"Airplane Crashes Since 1908\" dataset source: \n",
        "https://www.kaggle.com/cgurkan/airplane-crash-data-since-1908?select=Airplane_Crashes_and_Fatalities_Since_1908_20190820105639.csv"
      ],
      "metadata": {
        "id": "0eQjCcua7YBg"
      }
    },
    {
      "cell_type": "markdown",
      "source": [
        "Reference Links:\n",
        "* https://github.com/mrefford/EE_551\n"
      ],
      "metadata": {
        "id": "eqIFYyHvkYKW"
      }
    },
    {
      "cell_type": "code",
      "source": [
        "from google.colab import drive\n",
        "drive.mount('/content/drive')\n",
        "%cd drive/My\\ Drive/Colab\\ Notebooks"
      ],
      "metadata": {
        "colab": {
          "base_uri": "https://localhost:8080/"
        },
        "id": "y1pBnLqv7e6J",
        "outputId": "e40d1f43-a4bf-452b-dd3c-3f8be415464f"
      },
      "execution_count": null,
      "outputs": [
        {
          "output_type": "stream",
          "name": "stdout",
          "text": [
            "Drive already mounted at /content/drive; to attempt to forcibly remount, call drive.mount(\"/content/drive\", force_remount=True).\n",
            "[Errno 2] No such file or directory: 'drive/My Drive/Colab Notebooks'\n",
            "/content/geocoder\n"
          ]
        }
      ]
    },
    {
      "cell_type": "code",
      "source": [
        "from pathlib import Path\n",
        "\n",
        "print(Path.cwd())  # /home/skovorodkin/stack"
      ],
      "metadata": {
        "colab": {
          "base_uri": "https://localhost:8080/"
        },
        "id": "fJI9J4l1nZbY",
        "outputId": "8811d813-b3ca-4e6b-ec92-e6a8c1b6bc5d"
      },
      "execution_count": null,
      "outputs": [
        {
          "output_type": "stream",
          "name": "stdout",
          "text": [
            "/content/geocoder\n"
          ]
        }
      ]
    },
    {
      "cell_type": "markdown",
      "source": [
        "#Load Dataset"
      ],
      "metadata": {
        "id": "Dcdhvm_4qaMf"
      }
    },
    {
      "cell_type": "code",
      "source": [
        "# load dataset\n",
        "import pandas as pd\n",
        "import numpy as np\n",
        "import time\n",
        "import warnings\n",
        "warnings.filterwarnings('ignore')\n",
        "df = pd.read_csv('Airplane_Crashes_and_Fatalities_Since_1908_20190820105639.csv')\n",
        "df.shape\n",
        "\n"
      ],
      "metadata": {
        "id": "yV_qwwi95b8K"
      },
      "execution_count": null,
      "outputs": []
    },
    {
      "cell_type": "code",
      "source": [
        "#df.head()\n",
        "df.tail(100)"
      ],
      "metadata": {
        "id": "MyysvvET7lZa"
      },
      "execution_count": null,
      "outputs": []
    },
    {
      "cell_type": "code",
      "source": [
        "pd.set_option(\"display.max_colwidth\", -1)\n",
        "df.Summary.head(10)"
      ],
      "metadata": {
        "id": "EX8ocHQmev73"
      },
      "execution_count": null,
      "outputs": []
    },
    {
      "cell_type": "markdown",
      "source": [
        "Advanced exploratory data analysis (EDA) with Python: \n",
        "https://medium.com/p/536fa83c578a "
      ],
      "metadata": {
        "id": "Oee4s4lS7z1r"
      }
    },
    {
      "cell_type": "markdown",
      "source": [
        "##Task 1 - Categorization and Visualization\n",
        "###Task 1.1: Categorize by Operator (military, commertial(airline), test, sport...)\n",
        " * Define 5-7 categories (Example of categories: military, commertial(airline), test, sport...)\n",
        "    * Q1: How many planes crashed per category? (sum number of crashes)\n",
        "    * Q2: How many fatalities per category?     (sum number of fatalities)\n",
        "    * Hint: make a new column in the dataset\n",
        " * Produce bar chart\n",
        " * Comment on the results"
      ],
      "metadata": {
        "id": "J1ZQqkJcqhRW"
      }
    },
    {
      "cell_type": "code",
      "source": [
        "\n",
        "#Hint - first list all different types of operator using code below. Create bar chart for that  \n",
        "operators_unique = df.Operator.unique()\n",
        "operators = df.Operator.value_counts()\n",
        "print(operators)\n",
        "#Add code here\n"
      ],
      "metadata": {
        "id": "90RzyYoZ7x2s",
        "colab": {
          "base_uri": "https://localhost:8080/"
        },
        "outputId": "2c64ccab-82b9-4159-b1f8-3c64c06351d0"
      },
      "execution_count": null,
      "outputs": [
        {
          "output_type": "stream",
          "name": "stdout",
          "text": [
            "Aeroflot                                   255\n",
            "Military - U.S. Air Force                  140\n",
            "Air France                                  72\n",
            "Deutsche Lufthansa                          63\n",
            "United Air Lines                            44\n",
            "                                          ... \n",
            "Houston Metro Airlines                       1\n",
            "Wenela Air Services                          1\n",
            "Sierra Pacific Airlines                      1\n",
            "Pathet Lao Airlines                          1\n",
            "Aeroflot Russian International Airlines      1\n",
            "Name: Operator, Length: 2242, dtype: int64\n"
          ]
        }
      ]
    },
    {
      "cell_type": "markdown",
      "source": [
        "###Task 1.2: Categorize by AC Type \n",
        " * Define n categories (Boeing, Airbus, Antonov...etc)\n",
        "    * Q1: How many planes crashed? (sum number of crashes)\n",
        "    * Q2: How many fatalities?     (sum number of fatalities)\n",
        "    * Hint: make a new column in the dataset\n",
        " * Produce bar chart\n",
        " * Comment on the results\n",
        "\n",
        " "
      ],
      "metadata": {
        "id": "SYPPciADsBMP"
      }
    },
    {
      "cell_type": "code",
      "source": [
        "# Add code here"
      ],
      "metadata": {
        "id": "IYAqFt3z1Yyr"
      },
      "execution_count": null,
      "outputs": []
    },
    {
      "cell_type": "markdown",
      "source": [
        "###Task 1.3: Categorize by Year and Time of the Day\n",
        "* Use plots to visualize:\n",
        "    1. plot year vs. number of chashes\n",
        "    2. caterize time of failure into morning, afternoon, evening, and night based on \"time\".  \n",
        "    * Hint: you will need to add a new column to the DB to create a new category\n",
        "* plot bar or pie chart of number of crashes vs time of the day. \n",
        "* **Bonus** - Cross correlate year with type of aircraft. For example, the majority of crashes during WWII will be military. Can you identify and explain some other trends?"
      ],
      "metadata": {
        "id": "C5DNhk_esjdS"
      }
    },
    {
      "cell_type": "code",
      "source": [
        "#Add code here"
      ],
      "metadata": {
        "id": "U7d2SFlHslbR"
      },
      "execution_count": null,
      "outputs": []
    },
    {
      "cell_type": "markdown",
      "source": [
        "###Task 1.4: Perform EDA \n",
        "* Read the Advanced exploratory data analysis (EDA) with Python: https://medium.com/p/536fa83c578a\n",
        "* Apply EDA on your dataset.\n",
        "  * What else does the EDA tell you about dataset?"
      ],
      "metadata": {
        "id": "MtxlW-vKsztx"
      }
    },
    {
      "cell_type": "code",
      "source": [
        "#Add code here"
      ],
      "metadata": {
        "id": "xRUxND1NsxuN"
      },
      "execution_count": null,
      "outputs": []
    },
    {
      "cell_type": "markdown",
      "source": [
        "## Task 2: Implement Text Search Analysis\n",
        "* Implement a text search function that can search for key words in the \"summary\" and provide all instances that reference the words you are searching for. \n",
        "* List all aircraft that crashed due to: \n",
        "    1. weather (search by rain, storm..etc), \n",
        "    2. shot in combat (search shot)\n",
        "    3. collision (search collide, collision...)\n",
        "    4. approach/landing\n",
        "* **Bonus**:\n",
        "    * Think of your own categories. What would be useful and why? \n",
        "    * Correlate 2 or more keywords. \n",
        "* Discuss results, produce graphs or charts if nessary to support your discussion.\n",
        "\n",
        "referenece: \n",
        "https://www.kaggle.com/del=3f79407a7fc1ab98/text-analysis-for-aircraft-crashes-causes/notebook"
      ],
      "metadata": {
        "id": "4n0p5ad-1kzV"
      }
    },
    {
      "cell_type": "code",
      "source": [
        "#Add code here"
      ],
      "metadata": {
        "id": "F5WBdnAH219q"
      },
      "execution_count": null,
      "outputs": []
    },
    {
      "cell_type": "markdown",
      "source": [
        "## Task 3: Plot Crash on Map\n",
        "\n",
        "\n",
        "### Task 3.1: Plot Location of the crash on the map\n",
        "* Plot location of all crashes on the mapG\n",
        "* Generate heat map based on frequency of crash occurances \n",
        "* Cluster area of high crash occurance and categorize them from highest to lowes\n",
        "* Generate heat map based on the number of fatalities\n",
        "  * How does it compare to the heat map in 2nd bullet? \n",
        "* **Bonus**: Think of your own idea and implement it. What would be useful to add to the map view and why?\n",
        "* **Hint**: You will first need to convert the \"Location\" column to longitude and latitude coordinates. Feel free to use any library for this task. However, one way to do this is to use the \"geopy\" library. \n",
        "Note: Geopy does require you to create an account. "
      ],
      "metadata": {
        "id": "0XzexStX2518"
      }
    },
    {
      "cell_type": "code",
      "source": [
        "!pip install geopy"
      ],
      "metadata": {
        "id": "EwARTLoYifL5"
      },
      "execution_count": null,
      "outputs": []
    },
    {
      "cell_type": "code",
      "source": [
        "!git clone https://github.com/DenisCarriere/geocoder\n",
        "%cd geocoder\n"
      ],
      "metadata": {
        "id": "-2ykVFaDixAJ"
      },
      "execution_count": null,
      "outputs": []
    },
    {
      "cell_type": "code",
      "source": [
        "!python setup.py install"
      ],
      "metadata": {
        "id": "4uUdtBpsjBSM"
      },
      "execution_count": null,
      "outputs": []
    },
    {
      "cell_type": "code",
      "source": [
        "from geopy.geocoders import Nominatim"
      ],
      "metadata": {
        "id": "bzembuDnldPU"
      },
      "execution_count": null,
      "outputs": []
    },
    {
      "cell_type": "code",
      "source": [
        "geolocator = Nominatim(user_agent=\"geoapiExercises\")"
      ],
      "metadata": {
        "id": "I0gMn7ehlekm"
      },
      "execution_count": null,
      "outputs": []
    },
    {
      "cell_type": "code",
      "source": [
        "Latitude = \"25.594095\"\n",
        "Longitude = \"85.137566\"\n",
        "  \n",
        "location = geolocator.reverse(Latitude+\",\"+Longitude)\n",
        "  \n",
        "# Display\n",
        "print(location)"
      ],
      "metadata": {
        "colab": {
          "base_uri": "https://localhost:8080/"
        },
        "id": "ctnnprjBllJ_",
        "outputId": "45a90794-abd9-46a3-f81a-bd8d7126363b"
      },
      "execution_count": null,
      "outputs": [
        {
          "output_type": "stream",
          "name": "stdout",
          "text": [
            "Patna, Patna Rural, Patna District, Bihar, 800001, India\n"
          ]
        }
      ]
    },
    {
      "cell_type": "code",
      "source": [
        "from geopy.geocoders import Nominatim\n",
        "location = geolocator.geocode(\"175 5th Avenue NYC\")\n",
        "print(location.address)\n",
        "print((location.latitude, location.longitude))\n"
      ],
      "metadata": {
        "colab": {
          "base_uri": "https://localhost:8080/"
        },
        "id": "MVM3Ri9Wly3y",
        "outputId": "ec9c9568-b502-4814-f130-314add1ab8d9"
      },
      "execution_count": null,
      "outputs": [
        {
          "output_type": "stream",
          "name": "stdout",
          "text": [
            "Flatiron Building, 175, 5th Avenue, Manhattan Community Board 5, New York County, New York, 10010, United States\n",
            "(40.741059199999995, -73.98964162240998)\n"
          ]
        }
      ]
    },
    {
      "cell_type": "code",
      "source": [
        "from geopy.geocoders import Nominatim\n",
        "location = geolocator.geocode(\"Seattle, Washington\")\n",
        "print(location.address)\n",
        "print((location.latitude, location.longitude))\n"
      ],
      "metadata": {
        "id": "GlP1qDaUqPXp",
        "outputId": "2b4f7376-c0c4-402f-b6a2-5e80633278bd",
        "colab": {
          "base_uri": "https://localhost:8080/"
        }
      },
      "execution_count": null,
      "outputs": [
        {
          "output_type": "stream",
          "name": "stdout",
          "text": [
            "Seattle, King County, Washington, United States\n",
            "(47.6038321, -122.3300624)\n"
          ]
        }
      ]
    },
    {
      "cell_type": "code",
      "source": [
        "print(df.location[1])"
      ],
      "metadata": {
        "colab": {
          "base_uri": "https://localhost:8080/",
          "height": 165
        },
        "id": "AFGB40rCl_gC",
        "outputId": "6fceb2c5-306e-4d0f-b619-c36886e489c3"
      },
      "execution_count": null,
      "outputs": [
        {
          "output_type": "error",
          "ename": "NameError",
          "evalue": "ignored",
          "traceback": [
            "\u001b[0;31m---------------------------------------------------------------------------\u001b[0m",
            "\u001b[0;31mNameError\u001b[0m                                 Traceback (most recent call last)",
            "\u001b[0;32m<ipython-input-18-498037dcda06>\u001b[0m in \u001b[0;36m<module>\u001b[0;34m()\u001b[0m\n\u001b[0;32m----> 1\u001b[0;31m \u001b[0mprint\u001b[0m\u001b[0;34m(\u001b[0m\u001b[0mdf\u001b[0m\u001b[0;34m.\u001b[0m\u001b[0mlocation\u001b[0m\u001b[0;34m[\u001b[0m\u001b[0;36m1\u001b[0m\u001b[0;34m]\u001b[0m\u001b[0;34m)\u001b[0m\u001b[0;34m\u001b[0m\u001b[0;34m\u001b[0m\u001b[0m\n\u001b[0m",
            "\u001b[0;31mNameError\u001b[0m: name 'df' is not defined"
          ]
        }
      ]
    },
    {
      "cell_type": "code",
      "source": [
        "# add code here"
      ],
      "metadata": {
        "id": "9gUUwiRS25KU"
      },
      "execution_count": null,
      "outputs": []
    },
    {
      "cell_type": "markdown",
      "source": [
        "###Task 3.2: Plot Trajectories/Routes on Map\n",
        "* Plot trajectories and routes\n",
        "* Annotate with the AC registration \n",
        "* **Bonus**: Make it selectable such that you can pick such that the use can pick: date range, AC type, operator, registration\n",
        "\n",
        "Note: If you cannot do it for the entire dataset. Choose a smaller subset."
      ],
      "metadata": {
        "id": "TlbqJXYy4Yy8"
      }
    },
    {
      "cell_type": "code",
      "source": [
        "# add code here"
      ],
      "metadata": {
        "id": "Ut3roCwtkDNT"
      },
      "execution_count": null,
      "outputs": []
    },
    {
      "cell_type": "markdown",
      "source": [
        "###Task 3.3: Correlation Location and Weather \n",
        "* For each region identify what the key weather words are. \n",
        "* Are there some areas that have more crashses due to weather? \n",
        "* Can you identify what type of weather? (rain, winds...etc).\n",
        "* Create confusion matrix (x-weather and y-location)\n",
        "* **Bonus**: Correlate location with other \"key words\" (i.e. departure, pilot error..etc)\n",
        "\n",
        "Note: this part requires combining task 2 and task 3"
      ],
      "metadata": {
        "id": "OUtc2iXYxDGe"
      }
    },
    {
      "cell_type": "markdown",
      "source": [
        "## Task 4: Implement K-means Clustering \n",
        "\n",
        "The purpose of this task is to implement k-means clustering to identify correlations between different parameters identified in the previous tasks (heat map).\n",
        "\n",
        "###Task 4.1: K-means clustering\n",
        "* Apply k-means to different groups of data to identify correlations.\n",
        "* Test different k values\n",
        "  * Is there an obvios best k?\n",
        "\n",
        "Reference: \n",
        "https://scikit-learn.org/stable/modules/generated/sklearn.cluster.KMeans.html"
      ],
      "metadata": {
        "id": "9H83Tz5vvxO4"
      }
    },
    {
      "cell_type": "markdown",
      "source": [
        "### Task 4.2: K-means Optimization \n",
        "* Apply K-means optimization to find the best k-value using 2 different methods: \n",
        "  * Elbow method\n",
        "  * Silhuette method\n",
        "* Discuss result\n",
        "  * Which method is better and why?"
      ],
      "metadata": {
        "id": "4BNOgqjGxOiQ"
      }
    }
  ]
}