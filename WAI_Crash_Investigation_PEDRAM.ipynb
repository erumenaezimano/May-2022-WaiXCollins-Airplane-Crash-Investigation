{
  "nbformat": 4,
  "nbformat_minor": 0,
  "metadata": {
    "colab": {
      "name": "WAI_Crash_Investigation_PEDRAM.ipynb",
      "provenance": [],
      "collapsed_sections": []
    },
    "kernelspec": {
      "name": "python3",
      "display_name": "Python 3"
    },
    "language_info": {
      "name": "python"
    }
  },
  "cells": [
    {
      "cell_type": "markdown",
      "source": [
        "#Data Analytics Project I: Analysis Airplane Crashes 1908-2019\n",
        "This template is designed for the Women in AI (WAI) project May 2022 Cohort. The purpose of this project is to expose the WAI participants with a data analytic project related to aerospace and aviation. The objective of this project is to analyze, categorize and visualize airplane crash data. The goal of this project is to provide the paricipants with the tools and technqiues that are applicable to practical data analytics problems in aerospace and aviation. \n",
        "\n",
        "\n",
        "\n",
        "\n"
      ],
      "metadata": {
        "id": "ekBJ2Z7b4wuM"
      }
    },
    {
      "cell_type": "markdown",
      "source": [
        "Learning Objectives: \n",
        "* Data visualization \n",
        "* Basic statistical analysis \n",
        "* Basic use of Python \n",
        "* Basic ML skills"
      ],
      "metadata": {
        "id": "djDk8WNxlglw"
      }
    },
    {
      "cell_type": "markdown",
      "source": [
        "Requirements/Pre-requisits: \n",
        "* STEM Background: No\n",
        "* Data-science/ML/AI: Begginer / limited experience\n",
        "* Python: Begginer - some experience prefered but not mandatory\n",
        "\n"
      ],
      "metadata": {
        "id": "VQhYIxNqk295"
      }
    },
    {
      "cell_type": "markdown",
      "source": [
        "Author of the template and mentor for this project: \\\n",
        "Katarina Vuckovic \\\n",
        "Systems Engineer and Data-Scientist at Collins Aerospace\\\n",
        "Contact: katarina.vuckovic@collins.com \\"
      ],
      "metadata": {
        "id": "--dPu0R87cN2"
      }
    },
    {
      "cell_type": "markdown",
      "source": [
        "\"Airplane Crashes Since 1908\" dataset source: \n",
        "https://www.kaggle.com/cgurkan/airplane-crash-data-since-1908?select=Airplane_Crashes_and_Fatalities_Since_1908_20190820105639.csv"
      ],
      "metadata": {
        "id": "0eQjCcua7YBg"
      }
    },
    {
      "cell_type": "markdown",
      "source": [
        "Reference Links:\n",
        "* https://github.com/mrefford/EE_551\n"
      ],
      "metadata": {
        "id": "eqIFYyHvkYKW"
      }
    },
    {
      "cell_type": "code",
      "source": [
        "from google.colab import drive\n",
        "drive.mount('/content/drive')\n",
        "%cd drive/My\\ Drive/Colab\\ Notebooks"
      ],
      "metadata": {
        "colab": {
          "base_uri": "https://localhost:8080/"
        },
        "id": "y1pBnLqv7e6J",
        "outputId": "d01017ce-b3fc-41a4-bb38-ada53870deb0"
      },
      "execution_count": 1,
      "outputs": [
        {
          "output_type": "stream",
          "name": "stdout",
          "text": [
            "Drive already mounted at /content/drive; to attempt to forcibly remount, call drive.mount(\"/content/drive\", force_remount=True).\n",
            "/content/drive/My Drive/Colab Notebooks\n"
          ]
        }
      ]
    },
    {
      "cell_type": "code",
      "source": [
        "from pathlib import Path\n",
        "\n",
        "print(Path.cwd())  # /home/skovorodkin/stack"
      ],
      "metadata": {
        "colab": {
          "base_uri": "https://localhost:8080/"
        },
        "id": "fJI9J4l1nZbY",
        "outputId": "7f214ac8-68a7-44c8-b80b-acb7191add6d"
      },
      "execution_count": 2,
      "outputs": [
        {
          "output_type": "stream",
          "name": "stdout",
          "text": [
            "/content/drive/My Drive/Colab Notebooks\n"
          ]
        }
      ]
    },
    {
      "cell_type": "markdown",
      "source": [
        "#Load Dataset"
      ],
      "metadata": {
        "id": "Dcdhvm_4qaMf"
      }
    },
    {
      "cell_type": "code",
      "source": [
        "# load dataset\n",
        "import pandas as pd\n",
        "import numpy as np\n",
        "import time\n",
        "import warnings\n",
        "warnings.filterwarnings('ignore')\n",
        "df = pd.read_csv('Airplane_Crashes_and_Fatalities_Since_1908_20190820105639.csv')\n",
        "df.shape"
      ],
      "metadata": {
        "id": "yV_qwwi95b8K"
      },
      "execution_count": null,
      "outputs": []
    },
    {
      "cell_type": "code",
      "source": [
        "#df.head()\n",
        "df.tail(100)"
      ],
      "metadata": {
        "id": "MyysvvET7lZa"
      },
      "execution_count": null,
      "outputs": []
    },
    {
      "cell_type": "code",
      "source": [
        "pd.set_option(\"display.max_colwidth\", -1)\n",
        "df.Summary.head(10)"
      ],
      "metadata": {
        "id": "EX8ocHQmev73"
      },
      "execution_count": null,
      "outputs": []
    },
    {
      "cell_type": "markdown",
      "source": [
        "Advanced exploratory data analysis (EDA) with Python: \n",
        "https://medium.com/p/536fa83c578a "
      ],
      "metadata": {
        "id": "Oee4s4lS7z1r"
      }
    },
    {
      "cell_type": "markdown",
      "source": [
        "##Task 1 - Categorization and Visualization\n",
        "###Task 1.1: Categorize by Operator (military, commertial(airline), test, sport...)\n",
        " * Define 5-7 categories (Example of categories: military, commertial(airline), test, sport...)\n",
        "    * Q1: How many planes crashed per category? (sum number of crashes)\n",
        "    * Q2: How many fatalities per category?     (sum number of fatalities)\n",
        "    * Hint: make a new column in the dataset\n",
        " * Produce bar chart\n",
        " * Comment on the results"
      ],
      "metadata": {
        "id": "J1ZQqkJcqhRW"
      }
    },
    {
      "cell_type": "code",
      "source": [
        "#Hint - first list all different types of operator using code below. Create bar chart for that  \n",
        "operators_unique = df.Operator.unique()\n",
        "operators = df.Operator.value_counts()\n",
        "# print(operators)\n",
        "#Add code here\n",
        "\n",
        "import matplotlib.pyplot as plt\n",
        "\n",
        "df[\"Operator Cat\"] =\"other\"\n",
        "\n",
        "OP_cats={\"Military\":[\"military\",\"army\",\"air force\",\"airforce\"],\n",
        "         \"Airline\":[\"airline\",\"air line\",\"airway\",\"aerolin\",\"aero\"],\n",
        "         \"Private\":[\"private\"],\n",
        "         \"Cargo\":[\"fedex\",\"cargo\",\"service\"]\n",
        "         }\n",
        "\n",
        "# an alternative approach is define sub-categories by continent. airlines with more than 10 instances are listed\n",
        "# (AF: Africa) (AS: Asia) (EU: Europe) (US: United States) (AM: Rest of America) (OC: Oceania)\n",
        "OP_cats_continent={\"Military\":[\"military\",\"army\",\"air force\",\"airforce\"],       \n",
        "         \"Airline_AF\":[\"Ethiopian Airlines\"],         \n",
        "         \"Airline_AS\":[\"China National Aviation Corporation\",\"Indian Airlines\",\"Philippine Air Lines\",\"Merpati Nusantara Airlines\",\"Garuda Indonesia Airlines\",\n",
        "                         \"Pakistan International Airlines\",\"Burma Airways\",\"China Airlines\",\"Air Vietnam\",\"Korean Airlines\",\"Air India\",\"United Arab Airlines\"],         \n",
        "         \"Airline_EU\":[\"Aeroflot\",\"Air France\",\"Deutsche Lufthansa\",\"KLM Royal Dutch Airlines\",\"British Overseas Airways\",\"Sabena\",\"Aeropostale\",\"Imperial Airways\",\n",
        "                         \"British European Airways\",\"Ceskoslovenske Aerolinie\",\"Iberia Airlines\",\"LOT Polish Airlines\",\"Swissair\",\"Air Union\",\"Tarom\",\"Turkish Airlines\",\n",
        "                         \"Balkan Bulgarian Airlines\"],         \n",
        "         \"Airline_US\":[\"United Air Lines\",\"American Airlines\",\"Pan American World Airways\",\"Eastern Air Lines\",\"Northwest Orient Airlines\",\n",
        "                         \"Trans Continental and Western Air\",\"Trans World Airlines\",\"Delta Air Lines\",\"Braniff Airlines\"],         \n",
        "         \"Airline_AM\":[\"AVIANCA\",\"VASP\",\"Varig\",\"Mexicana\",\"Cubana de Aviacion\",\"Cruzeiro\",\"Linea Aeropostal Venezolana\",\"Aerolineas Argentinas\",\n",
        "                         \"Panair do Brasil\",\"Canadian Pacific Air Lines\",\"Faucett\",\"TACA\",\"SATENA\"],         \n",
        "         \"Airline_OC\":[\"Qantas\"],\n",
        "         \"Private\":[\"Private\"],\n",
        "         \"Cargo\":[\"Flying Tiger Line\",\"US Aerial Mail Service\",\"fedex\",\"cargo\"]\n",
        "         }\n",
        "\n",
        "# to apply categories by continent\n",
        "# OP_cats=OP_cats_continent\n",
        "\n",
        "for op_cat in OP_cats:\n",
        "  filter=df[\"Operator\"].str.contains('|'.join(OP_cats[op_cat]),case=False,regex=True,na=False)\n",
        "  df.loc[filter, \"Operator Cat\"] = op_cat\n",
        "\n",
        "# to find uncategorized operators - comment bellow line after setting up all categories\n",
        "# remainingdf=df[df[\"Operator Cat\"]=='other']\n",
        "# print(remainingdf.Operator.value_counts())\n",
        "# remainingdf.to_csv('remainingdf.csv')\n",
        "\n",
        "# to ignore uncategorized operators - but it overwrite the oroginal df. you may reload the entire dataset\n",
        "# df=df[df[\"Operator Cat\"]!='other']\n",
        "\n",
        "fig, axs = plt.subplots(1,3,figsize=(25, 5))\n",
        "df.groupby(\"Operator Cat\").size().sort_values(ascending=False).plot(kind = \"bar\",ax=axs[0],title=\"Number of Crash\")\n",
        "df.groupby(\"Operator Cat\")[\"Fatalities\"].sum().sort_values(ascending=False).plot(kind = \"bar\",ax=axs[1],title=\"Total Number of Fatalities\")\n",
        "df.groupby(\"Operator Cat\")[\"Fatalities\"].mean().sort_values(ascending=False).plot(kind = \"bar\",ax=axs[2],title=\"Average Number of Fatalities per Crash\")\n",
        "plt.show()"
      ],
      "metadata": {
        "id": "90RzyYoZ7x2s",
        "colab": {
          "base_uri": "https://localhost:8080/",
          "height": 377
        },
        "outputId": "35fa16cf-568e-43d0-a9e9-614cd25cc69f"
      },
      "execution_count": 6,
      "outputs": [
        {
          "output_type": "display_data",
          "data": {
            "text/plain": [
              "<Figure size 1800x360 with 3 Axes>"
            ],
            "image/png": "[encoded data removed]"
          },
          "metadata": {
            "needs_background": "light"
          }
        }
      ]
    },
    {
      "cell_type": "markdown",
      "source": [
        "###Task 1.2: Categorize by AC Type \n",
        " * Define n categories (Boeing, Airbus, Antonov...etc)\n",
        "    * Q1: How many planes crashed? (sum number of crashes)\n",
        "    * Q2: How many fatalities?     (sum number of fatalities)\n",
        "    * Hint: make a new column in the dataset\n",
        " * Produce bar chart\n",
        " * Comment on the results\n",
        "\n",
        " "
      ],
      "metadata": {
        "id": "SYPPciADsBMP"
      }
    },
    {
      "cell_type": "code",
      "source": [
        "# Add code here\n",
        "import matplotlib.pyplot as plt\n",
        "\n",
        "df[\"AC Cat\"] =\"other\"\n",
        "\n",
        "# categories with more than 25 instances\n",
        "AC_cats={\"Fokker\":[\"Fokker\"],\n",
        "         \"Douglas\":[\"Douglas\"],\n",
        "         \"Boeing\":[\"Boeing\"],\n",
        "         \"Ford\":[\"Ford\"],\n",
        "         \"Lockheed\":[\"Lockheed\"],\n",
        "         \"Antonov\":[\"Antonov\"],\n",
        "         \"Airbus\":[\"Airbus\"],\n",
        "         \"Havilland\":[\"Havilland\"],\n",
        "         \"Yakovlev\":[\"Yakovlev\"],\n",
        "         \"Curtiss\":[\"Curtiss\"],\n",
        "         \"Junkers\":[\"Junkers\"],\n",
        "         \"Beechcraft\":[\"Beechcraft\"],\n",
        "         \"Tupolev\":[\"Tupolev\"],\n",
        "         \"Fairchild\":[\"Fairchild\"],\n",
        "         \"Vickers\":[\"Vickers\"],\n",
        "         \"Aerospatiale\":[\"Aerospatiale\"],\n",
        "         \"Avro\":[\"Avro\"],\n",
        "         \"Bell\":[\"Bell\"],\n",
        "         \"Cessna\":[\"Cessna\"],\n",
        "         \"Consolidated\":[\"Consolidated\"],\n",
        "         \"Convair\":[\"Convair\"],\n",
        "         \"Embraer\":[\"Embraer\",\"EMB\"],\n",
        "         \"Ilyushin\":[\"Ilyushin\"],\n",
        "         \"Sikorsky\":[\"Sikorsky\"],\n",
        "         \"Britten-Norman\":[\"Britten\",\"Norman\"],\n",
        "         \"Bombardier\":[\"Bombardier\",\"Canadair\"],\n",
        "         \"Hawker\":[\"Hawker\"],\n",
        "         \"LET\":[\"^let\"],\n",
        "         \"Helicopter\":[\"Helicopter\"],\n",
        "         \"Short\":[\"Short\"],\n",
        "         \"Swearingen\":[\"Swearingen\"],\n",
        "         }\n",
        "\n",
        "for ac_cat in AC_cats:\n",
        "  filter=df[\"AC Type\"].str.contains('|'.join(AC_cats[ac_cat]),case=False,regex=True,na=False)\n",
        "  df.loc[filter, \"AC Cat\"] = ac_cat\n",
        "\n",
        "# to find uncategorized operators - comment bellow line after setting up all categories\n",
        "# remainingdf=df[df[\"AC Cat\"]=='other']\n",
        "# print(remainingdf[\"AC Type\"].value_counts())\n",
        "# remainingdf.to_csv('remainingdf.csv')\n",
        "\n",
        "# to ignore uncategorized operators - but it overwrite the oroginal df. you may reload the entire dataset\n",
        "# df=df[df[\"AC Cat\"]!='other']\n",
        "\n",
        "fig, axs = plt.subplots(1,3,figsize=(25, 5))\n",
        "df.groupby(\"AC Cat\").size().sort_values(ascending=False).plot(kind = \"bar\",ax=axs[0],title=\"Number of Crash\")\n",
        "df.groupby(\"AC Cat\")[\"Fatalities\"].sum().sort_values(ascending=False).plot(kind = \"bar\",ax=axs[1],title=\"Total Number of Fatalities\")\n",
        "df.groupby(\"AC Cat\")[\"Fatalities\"].mean().sort_values(ascending=False).plot(kind = \"bar\",ax=axs[2],title=\"Average Number of Fatalities per Crash\")\n",
        "plt.show()"
      ],
      "metadata": {
        "id": "IYAqFt3z1Yyr",
        "colab": {
          "base_uri": "https://localhost:8080/",
          "height": 417
        },
        "outputId": "3e2ba7b2-51d6-4609-e106-f632d25270b0"
      },
      "execution_count": 7,
      "outputs": [
        {
          "output_type": "display_data",
          "data": {
            "text/plain": [
              "<Figure size 1800x360 with 3 Axes>"
            ],
            "image/png": "[encoded data removed]"
          },
          "metadata": {
            "needs_background": "light"
          }
        }
      ]
    },
    {
      "cell_type": "markdown",
      "source": [
        "###Task 1.3: Categorize by Year and Time of the Day\n",
        "* Use plots to visualize:\n",
        "    1. plot year vs. number of chashes\n",
        "    2. caterize time of failure into morning, afternoon, evening, and night based on \"time\".  \n",
        "    * Hint: you will need to add a new column to the DB to create a new category\n",
        "* plot bar or pie chart of number of crashes vs time of the day. \n",
        "* **Bonus** - Cross correlate year with type of aircraft. For example, the majority of crashes during WWII will be military. Can you identify and explain some other trends?"
      ],
      "metadata": {
        "id": "C5DNhk_esjdS"
      }
    },
    {
      "cell_type": "code",
      "source": [
        "#Add code here\n",
        "import matplotlib.pyplot as plt\n",
        "\n",
        "year_serie=pd.to_datetime(df.Date).dt.year\n",
        "df.groupby(year_serie).size().plot(kind = \"bar\",title=\"Number of Crash\",figsize=(25, 6))\n",
        "plt.show()\n",
        "\n",
        "bins = [0,6,12,18,24]\n",
        "labels = ['night','morning','afternoon','evening']\n",
        "time_serie=pd.to_datetime(df.Time,errors='coerce').dt.hour\n",
        "df[\"Time Bin\"]=pd.cut(time_serie, bins, labels=labels, right=False)\n",
        "\n",
        "fig, axs = plt.subplots(1,2,figsize=(16, 5))\n",
        "df.groupby(\"Time Bin\").size().plot(kind=\"pie\",autopct='%0.1f%%',ax=axs[0],explode=(0.05,0.05, 0.05, 0.05),title=\"Percentage of Crash\")\n",
        "df.groupby(\"Time Bin\")[\"Fatalities\"].sum().sort_values(ascending=False).plot(kind=\"bar\",ax=axs[1],title=\"Total Number of Fatalities\")\n",
        "plt.show()"
      ],
      "metadata": {
        "id": "U7d2SFlHslbR",
        "outputId": "9479088a-6009-4f7b-8949-407b296c17c0",
        "colab": {
          "base_uri": "https://localhost:8080/",
          "height": 791
        }
      },
      "execution_count": 8,
      "outputs": [
        {
          "output_type": "display_data",
          "data": {
            "text/plain": [
              "<Figure size 1800x432 with 1 Axes>"
            ],
            "image/png": "[encoded data removed]"
          },
          "metadata": {
            "needs_background": "light"
          }
        },
        {
          "output_type": "display_data",
          "data": {
            "text/plain": [
              "<Figure size 1152x360 with 2 Axes>"
            ],
            "image/png": "[encoded data removed]"
          },
          "metadata": {
            "needs_background": "light"
          }
        }
      ]
    },
    {
      "cell_type": "markdown",
      "source": [
        "###Task 1.4: Perform EDA \n",
        "* Read the Advanced exploratory data analysis (EDA) with Python: https://medium.com/p/536fa83c578a\n",
        "* Apply EDA on your dataset.\n",
        "  * What else does the EDA tell you about dataset?"
      ],
      "metadata": {
        "id": "MtxlW-vKsztx"
      }
    },
    {
      "cell_type": "code",
      "source": [
        "#Add code here"
      ],
      "metadata": {
        "id": "xRUxND1NsxuN"
      },
      "execution_count": null,
      "outputs": []
    },
    {
      "cell_type": "markdown",
      "source": [
        "## Task 2: Implement Text Search Analysis\n",
        "* Implement a text search function that can search for key words in the \"summary\" and provide all instances that reference the words you are searching for. \n",
        "* List all aircraft that crashed due to: \n",
        "    1. weather (search by rain, storm..etc), \n",
        "    2. shot in combat (search shot)\n",
        "    3. collision (search collide, collision...)\n",
        "    4. approach/landing\n",
        "* **Bonus**:\n",
        "    * Think of your own categories. What would be useful and why? \n",
        "    * Correlate 2 or more keywords. \n",
        "* Discuss results, produce graphs or charts if nessary to support your discussion.\n",
        "\n",
        "referenece: \n",
        "https://www.kaggle.com/del=3f79407a7fc1ab98/text-analysis-for-aircraft-crashes-causes/notebook"
      ],
      "metadata": {
        "id": "4n0p5ad-1kzV"
      }
    },
    {
      "cell_type": "code",
      "source": [
        "#Add code here"
      ],
      "metadata": {
        "id": "F5WBdnAH219q"
      },
      "execution_count": null,
      "outputs": []
    },
    {
      "cell_type": "markdown",
      "source": [
        "## Task 3: Plot Crash on Map\n",
        "\n",
        "\n",
        "### Task 3.1: Plot Location of the crash on the map\n",
        "* Plot location of all crashes on the mapG\n",
        "* Generate heat map based on frequency of crash occurances \n",
        "* Cluster area of high crash occurance and categorize them from highest to lowes\n",
        "* Generate heat map based on the number of fatalities\n",
        "  * How does it compare to the heat map in 2nd bullet? \n",
        "* **Bonus**: Think of your own idea and implement it. What would be useful to add to the map view and why?\n",
        "* **Hint**: You will first need to convert the \"Location\" column to longitude and latitude coordinates. Feel free to use any library for this task. However, one way to do this is to use the \"geopy\" library. \n",
        "Note: Geopy does require you to create an account. "
      ],
      "metadata": {
        "id": "0XzexStX2518"
      }
    },
    {
      "cell_type": "code",
      "source": [
        "!pip install geopy"
      ],
      "metadata": {
        "id": "EwARTLoYifL5"
      },
      "execution_count": null,
      "outputs": []
    },
    {
      "cell_type": "code",
      "source": [
        "!git clone https://github.com/DenisCarriere/geocoder\n",
        "%cd geocoder\n"
      ],
      "metadata": {
        "id": "-2ykVFaDixAJ"
      },
      "execution_count": null,
      "outputs": []
    },
    {
      "cell_type": "code",
      "source": [
        "!python setup.py install"
      ],
      "metadata": {
        "id": "4uUdtBpsjBSM"
      },
      "execution_count": null,
      "outputs": []
    },
    {
      "cell_type": "code",
      "source": [
        "from geopy.geocoders import Nominatim"
      ],
      "metadata": {
        "id": "bzembuDnldPU"
      },
      "execution_count": null,
      "outputs": []
    },
    {
      "cell_type": "code",
      "source": [
        "geolocator = Nominatim(user_agent=\"geoapiExercises\")"
      ],
      "metadata": {
        "id": "I0gMn7ehlekm"
      },
      "execution_count": null,
      "outputs": []
    },
    {
      "cell_type": "code",
      "source": [
        "Latitude = \"25.594095\"\n",
        "Longitude = \"85.137566\"\n",
        "  \n",
        "location = geolocator.reverse(Latitude+\",\"+Longitude)\n",
        "  \n",
        "# Display\n",
        "print(location)"
      ],
      "metadata": {
        "colab": {
          "base_uri": "https://localhost:8080/"
        },
        "id": "ctnnprjBllJ_",
        "outputId": "45a90794-abd9-46a3-f81a-bd8d7126363b"
      },
      "execution_count": null,
      "outputs": [
        {
          "output_type": "stream",
          "name": "stdout",
          "text": [
            "Patna, Patna Rural, Patna District, Bihar, 800001, India\n"
          ]
        }
      ]
    },
    {
      "cell_type": "code",
      "source": [
        "from geopy.geocoders import Nominatim\n",
        "location = geolocator.geocode(\"175 5th Avenue NYC\")\n",
        "print(location.address)\n",
        "print((location.latitude, location.longitude))\n"
      ],
      "metadata": {
        "colab": {
          "base_uri": "https://localhost:8080/"
        },
        "id": "MVM3Ri9Wly3y",
        "outputId": "ec9c9568-b502-4814-f130-314add1ab8d9"
      },
      "execution_count": null,
      "outputs": [
        {
          "output_type": "stream",
          "name": "stdout",
          "text": [
            "Flatiron Building, 175, 5th Avenue, Manhattan Community Board 5, New York County, New York, 10010, United States\n",
            "(40.741059199999995, -73.98964162240998)\n"
          ]
        }
      ]
    },
    {
      "cell_type": "code",
      "source": [
        "from geopy.geocoders import Nominatim\n",
        "location = geolocator.geocode(\"Seattle, Washington\")\n",
        "print(location.address)\n",
        "print((location.latitude, location.longitude))\n"
      ],
      "metadata": {
        "id": "GlP1qDaUqPXp",
        "outputId": "2b4f7376-c0c4-402f-b6a2-5e80633278bd",
        "colab": {
          "base_uri": "https://localhost:8080/"
        }
      },
      "execution_count": null,
      "outputs": [
        {
          "output_type": "stream",
          "name": "stdout",
          "text": [
            "Seattle, King County, Washington, United States\n",
            "(47.6038321, -122.3300624)\n"
          ]
        }
      ]
    },
    {
      "cell_type": "code",
      "source": [
        "print(df.location[1])"
      ],
      "metadata": {
        "colab": {
          "base_uri": "https://localhost:8080/",
          "height": 165
        },
        "id": "AFGB40rCl_gC",
        "outputId": "6fceb2c5-306e-4d0f-b619-c36886e489c3"
      },
      "execution_count": null,
      "outputs": [
        {
          "output_type": "error",
          "ename": "NameError",
          "evalue": "ignored",
          "traceback": [
            "\u001b[0;31m---------------------------------------------------------------------------\u001b[0m",
            "\u001b[0;31mNameError\u001b[0m                                 Traceback (most recent call last)",
            "\u001b[0;32m<ipython-input-18-498037dcda06>\u001b[0m in \u001b[0;36m<module>\u001b[0;34m()\u001b[0m\n\u001b[0;32m----> 1\u001b[0;31m \u001b[0mprint\u001b[0m\u001b[0;34m(\u001b[0m\u001b[0mdf\u001b[0m\u001b[0;34m.\u001b[0m\u001b[0mlocation\u001b[0m\u001b[0;34m[\u001b[0m\u001b[0;36m1\u001b[0m\u001b[0;34m]\u001b[0m\u001b[0;34m)\u001b[0m\u001b[0;34m\u001b[0m\u001b[0;34m\u001b[0m\u001b[0m\n\u001b[0m",
            "\u001b[0;31mNameError\u001b[0m: name 'df' is not defined"
          ]
        }
      ]
    },
    {
      "cell_type": "code",
      "source": [
        "# add code here"
      ],
      "metadata": {
        "id": "9gUUwiRS25KU"
      },
      "execution_count": null,
      "outputs": []
    },
    {
      "cell_type": "markdown",
      "source": [
        "###Task 3.2: Plot Trajectories/Routes on Map\n",
        "* Plot trajectories and routes\n",
        "* Annotate with the AC registration \n",
        "* **Bonus**: Make it selectable such that you can pick such that the use can pick: date range, AC type, operator, registration\n",
        "\n",
        "Note: If you cannot do it for the entire dataset. Choose a smaller subset."
      ],
      "metadata": {
        "id": "TlbqJXYy4Yy8"
      }
    },
    {
      "cell_type": "code",
      "source": [
        "# add code here"
      ],
      "metadata": {
        "id": "Ut3roCwtkDNT"
      },
      "execution_count": null,
      "outputs": []
    },
    {
      "cell_type": "markdown",
      "source": [
        "###Task 3.3: Correlation Location and Weather \n",
        "* For each region identify what the key weather words are. \n",
        "* Are there some areas that have more crashses due to weather? \n",
        "* Can you identify what type of weather? (rain, winds...etc).\n",
        "* Create confusion matrix (x-weather and y-location)\n",
        "* **Bonus**: Correlate location with other \"key words\" (i.e. departure, pilot error..etc)\n",
        "\n",
        "Note: this part requires combining task 2 and task 3"
      ],
      "metadata": {
        "id": "OUtc2iXYxDGe"
      }
    },
    {
      "cell_type": "markdown",
      "source": [
        "## Task 4: Implement K-means Clustering \n",
        "\n",
        "The purpose of this task is to implement k-means clustering to identify correlations between different parameters identified in the previous tasks (heat map).\n",
        "\n",
        "###Task 4.1: K-means clustering\n",
        "* Apply k-means to different groups of data to identify correlations.\n",
        "* Test different k values\n",
        "  * Is there an obvios best k?\n",
        "\n",
        "Reference: \n",
        "https://scikit-learn.org/stable/modules/generated/sklearn.cluster.KMeans.html"
      ],
      "metadata": {
        "id": "9H83Tz5vvxO4"
      }
    },
    {
      "cell_type": "markdown",
      "source": [
        "### Task 4.2: K-means Optimization \n",
        "* Apply K-means optimization to find the best k-value using 2 different methods: \n",
        "  * Elbow method\n",
        "  * Silhuette method\n",
        "* Discuss result\n",
        "  * Which method is better and why?"
      ],
      "metadata": {
        "id": "4BNOgqjGxOiQ"
      }
    }
  ]
}