{
  "nbformat": 4,
  "nbformat_minor": 0,
  "metadata": {
    "colab": {
      "name": "geopyLoc-Route.ipynb",
      "provenance": [],
      "collapsed_sections": [],
      "authorship_tag": "ABX9TyNZg6s61QX207aUItQc90Qe",
      "include_colab_link": true
    },
    "kernelspec": {
      "name": "python3",
      "display_name": "Python 3"
    },
    "language_info": {
      "name": "python"
    }
  },
  "cells": [
    {
      "cell_type": "markdown",
      "metadata": {
        "id": "view-in-github",
        "colab_type": "text"
      },
      "source": [
        "<a href=\"https://colab.research.google.com/github/women-in-ai-ireland/May-2022-WaiXCollins-Airplane-Crash-Investigation/blob/main/dataset/geopyLoc_Route.ipynb\" target=\"_parent\"><img src=\"https://colab.research.google.com/assets/colab-badge.svg\" alt=\"Open In Colab\"/></a>"
      ]
    },
    {
      "cell_type": "code",
      "source": [
        "import pandas as pd\n",
        "import numpy as np\n",
        "df=pd.read_csv(\"https://github.com/women-in-ai-ireland/May-2022-WaiXCollins-Airplane-Crash-Investigation/raw/main/dataset/Airplane_Crashes_and_Fatalities_Since_1908_20190820105639.csv\")"
      ],
      "metadata": {
        "id": "7YXd05V80AgM"
      },
      "execution_count": 33,
      "outputs": []
    },
    {
      "cell_type": "code",
      "source": [
        "import geopy\n",
        "from geopy.geocoders import Nominatim\n",
        "from geopy.extra.rate_limiter import RateLimiter\n",
        "geolocator = Nominatim(user_agent=\"geoapiExercises\")\n",
        "geocode = RateLimiter(geolocator.geocode, min_delay_seconds=1)\n",
        "\n",
        "def loc_to_geo(row):\n",
        "  if not (isinstance(row[\"geopyLoc\"], geopy.location.Location)):\n",
        "    loc=row[\"Location\"]\n",
        "    # remove redundant keywords and clear the text\n",
        "    try:\n",
        "      loc=loc.lower().replace(\"near\",\"\").replace(\"off\",\"\").replace(\"over the\",\"\").strip()\n",
        "    except:\n",
        "      return None\n",
        "\n",
        "    return geocode(loc,language='en',addressdetails=True)\n",
        "\n",
        "\n",
        "def route_to_geo(row):\n",
        "  if not (isinstance(row[\"geopyRoute\"], list)):\n",
        "    try:\n",
        "      # we assume that the origin and destination are devided by hyphen\n",
        "      route_list=row[\"Route\"].split('-')\n",
        "    except:\n",
        "      return None\n",
        "\n",
        "    # if the output have one element, it means we only have one point (no hyphen)\n",
        "    # which is not enough to draw the route\n",
        "    if len(route_list)==1:\n",
        "      return None\n",
        "\n",
        "    geo_route_list=[]\n",
        "    for loc in route_list:\n",
        "      geoloc=geocode(loc,language='en',addressdetails=True)\n",
        "      # if any of route points does not return a geopy location, we skip the entire route\n",
        "      if not geoloc:\n",
        "        return None\n",
        "      else:\n",
        "        geo_route_list.append(geoloc)\n",
        "\n",
        "    return geo_route_list"
      ],
      "metadata": {
        "id": "37r_2Tl00KPt"
      },
      "execution_count": 34,
      "outputs": []
    },
    {
      "cell_type": "code",
      "source": [
        "# create an empty column if it is not existed\n",
        "if not(\"geopyLoc\" in (df.columns)):\n",
        "  df[\"geopyLoc\"]=None\n",
        "\n",
        "# apply desired function (loc_to_geo) to rows which do not have value in \"geopyLoc\"\n",
        "# this allows us to break the task and update only remaining records\n",
        "# and insert the output to a pandas.series called \"result\"\n",
        "result=df[df[\"geopyLoc\"].isna()].apply(loc_to_geo,axis=\"columns\")\n",
        "df.loc[result.index,\"geopyLoc\"]=result"
      ],
      "metadata": {
        "id": "883TK5G0FwP3"
      },
      "execution_count": null,
      "outputs": []
    },
    {
      "cell_type": "code",
      "source": [
        "# create an empty column if it is not existed\n",
        "if not(\"geopyRoute\" in (df.columns)):\n",
        "  df[\"geopyRoute\"]=None\n",
        "\n",
        "result=df[df[\"geopyRoute\"].isna()].apply(route_to_geo,axis=\"columns\")\n",
        "df.loc[result.index,\"geopyRoute\"]=result"
      ],
      "metadata": {
        "id": "05u7QLXwUDNf"
      },
      "execution_count": null,
      "outputs": []
    },
    {
      "cell_type": "code",
      "source": [
        "# save as pickle(pkl) to preserve the data types\n",
        "df.to_pickle(\"Airplane_Crashes_and_Fatalities_Since_1908_20190820105639.pkl\")"
      ],
      "metadata": {
        "id": "QppmoncxeikJ"
      },
      "execution_count": 43,
      "outputs": []
    }
  ]
}